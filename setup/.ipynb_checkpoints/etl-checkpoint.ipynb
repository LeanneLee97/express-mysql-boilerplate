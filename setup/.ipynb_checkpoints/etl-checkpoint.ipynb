{
 "cells": [
  {
   "cell_type": "code",
   "execution_count": 1,
   "metadata": {},
   "outputs": [],
   "source": [
    "import pandas as pd"
   ]
  },
  {
   "cell_type": "code",
   "execution_count": 2,
   "metadata": {},
   "outputs": [],
   "source": [
    "test = pd.read_csv(\"user.csv\")"
   ]
  },
  {
   "cell_type": "code",
   "execution_count": 3,
   "metadata": {},
   "outputs": [
    {
     "data": {
      "text/html": [
       "<div>\n",
       "<style scoped>\n",
       "    .dataframe tbody tr th:only-of-type {\n",
       "        vertical-align: middle;\n",
       "    }\n",
       "\n",
       "    .dataframe tbody tr th {\n",
       "        vertical-align: top;\n",
       "    }\n",
       "\n",
       "    .dataframe thead th {\n",
       "        text-align: right;\n",
       "    }\n",
       "</style>\n",
       "<table border=\"1\" class=\"dataframe\">\n",
       "  <thead>\n",
       "    <tr style=\"text-align: right;\">\n",
       "      <th></th>\n",
       "      <th>nric_id</th>\n",
       "      <th>name</th>\n",
       "      <th>country</th>\n",
       "      <th>email</th>\n",
       "      <th>phone</th>\n",
       "      <th>type</th>\n",
       "      <th>password</th>\n",
       "      <th>membership_id</th>\n",
       "      <th>points</th>\n",
       "      <th>points_redeemed</th>\n",
       "      <th>expiry</th>\n",
       "      <th>tier</th>\n",
       "    </tr>\n",
       "  </thead>\n",
       "  <tbody>\n",
       "    <tr>\n",
       "      <th>0</th>\n",
       "      <td>704-82-5692</td>\n",
       "      <td>Dolf Suche</td>\n",
       "      <td>Indonesia</td>\n",
       "      <td>dsuche0@privacy.gov.au</td>\n",
       "      <td>(443) 8839479</td>\n",
       "      <td>non-member</td>\n",
       "      <td>jGuGsghl6h0</td>\n",
       "      <td>346756782</td>\n",
       "      <td>8939</td>\n",
       "      <td>19274</td>\n",
       "      <td>3/18/2019</td>\n",
       "      <td>bronze</td>\n",
       "    </tr>\n",
       "    <tr>\n",
       "      <th>1</th>\n",
       "      <td>324-71-4176</td>\n",
       "      <td>Noni Fahy</td>\n",
       "      <td>China</td>\n",
       "      <td>nfahy1@samsung.com</td>\n",
       "      <td>(873) 9662928</td>\n",
       "      <td>non-member</td>\n",
       "      <td>fyh7zFsbnHs</td>\n",
       "      <td>8991479111</td>\n",
       "      <td>7833</td>\n",
       "      <td>18676</td>\n",
       "      <td>2/4/2020</td>\n",
       "      <td>gold</td>\n",
       "    </tr>\n",
       "    <tr>\n",
       "      <th>2</th>\n",
       "      <td>805-70-1459</td>\n",
       "      <td>Joshuah Holme</td>\n",
       "      <td>China</td>\n",
       "      <td>jholme2@ucoz.com</td>\n",
       "      <td>(864) 4142998</td>\n",
       "      <td>non-member</td>\n",
       "      <td>YDEGMjQ1</td>\n",
       "      <td>7238360381</td>\n",
       "      <td>28548</td>\n",
       "      <td>22428</td>\n",
       "      <td>7/6/2019</td>\n",
       "      <td>gold</td>\n",
       "    </tr>\n",
       "    <tr>\n",
       "      <th>3</th>\n",
       "      <td>248-61-7593</td>\n",
       "      <td>Gerrie Aleavy</td>\n",
       "      <td>Japan</td>\n",
       "      <td>galeavy3@dailymotion.com</td>\n",
       "      <td>(422) 7481206</td>\n",
       "      <td>non-member</td>\n",
       "      <td>9DJQbDfuAh3</td>\n",
       "      <td>9491129961</td>\n",
       "      <td>36989</td>\n",
       "      <td>15256</td>\n",
       "      <td>10/6/2018</td>\n",
       "      <td>silver</td>\n",
       "    </tr>\n",
       "    <tr>\n",
       "      <th>4</th>\n",
       "      <td>237-06-9226</td>\n",
       "      <td>Kinna Pauer</td>\n",
       "      <td>Ukraine</td>\n",
       "      <td>kpauer4@topsy.com</td>\n",
       "      <td>(394) 7905151</td>\n",
       "      <td>non-member</td>\n",
       "      <td>r4nnfxaA</td>\n",
       "      <td>2012443885</td>\n",
       "      <td>12837</td>\n",
       "      <td>3495</td>\n",
       "      <td>11/28/2018</td>\n",
       "      <td>silver</td>\n",
       "    </tr>\n",
       "  </tbody>\n",
       "</table>\n",
       "</div>"
      ],
      "text/plain": [
       "       nric_id           name    country                     email  \\\n",
       "0  704-82-5692     Dolf Suche  Indonesia    dsuche0@privacy.gov.au   \n",
       "1  324-71-4176      Noni Fahy      China        nfahy1@samsung.com   \n",
       "2  805-70-1459  Joshuah Holme      China          jholme2@ucoz.com   \n",
       "3  248-61-7593  Gerrie Aleavy      Japan  galeavy3@dailymotion.com   \n",
       "4  237-06-9226    Kinna Pauer    Ukraine         kpauer4@topsy.com   \n",
       "\n",
       "           phone        type     password  membership_id  points  \\\n",
       "0  (443) 8839479  non-member  jGuGsghl6h0      346756782    8939   \n",
       "1  (873) 9662928  non-member  fyh7zFsbnHs     8991479111    7833   \n",
       "2  (864) 4142998  non-member     YDEGMjQ1     7238360381   28548   \n",
       "3  (422) 7481206  non-member  9DJQbDfuAh3     9491129961   36989   \n",
       "4  (394) 7905151  non-member     r4nnfxaA     2012443885   12837   \n",
       "\n",
       "   points_redeemed      expiry    tier  \n",
       "0            19274   3/18/2019  bronze  \n",
       "1            18676    2/4/2020    gold  \n",
       "2            22428    7/6/2019    gold  \n",
       "3            15256   10/6/2018  silver  \n",
       "4             3495  11/28/2018  silver  "
      ]
     },
     "execution_count": 3,
     "metadata": {},
     "output_type": "execute_result"
    }
   ],
   "source": [
    "test.head()"
   ]
  },
  {
   "cell_type": "markdown",
   "metadata": {},
   "source": [
    "### Creating Schedule"
   ]
  },
  {
   "cell_type": "code",
   "execution_count": 4,
   "metadata": {},
   "outputs": [],
   "source": [
    "flight = pd.read_csv(\"flight.csv\")"
   ]
  },
  {
   "cell_type": "code",
   "execution_count": 5,
   "metadata": {},
   "outputs": [
    {
     "data": {
      "text/html": [
       "<div>\n",
       "<style scoped>\n",
       "    .dataframe tbody tr th:only-of-type {\n",
       "        vertical-align: middle;\n",
       "    }\n",
       "\n",
       "    .dataframe tbody tr th {\n",
       "        vertical-align: top;\n",
       "    }\n",
       "\n",
       "    .dataframe thead th {\n",
       "        text-align: right;\n",
       "    }\n",
       "</style>\n",
       "<table border=\"1\" class=\"dataframe\">\n",
       "  <thead>\n",
       "    <tr style=\"text-align: right;\">\n",
       "      <th></th>\n",
       "      <th>schedule_id</th>\n",
       "      <th>arrival_airport</th>\n",
       "      <th>arrival_datetime</th>\n",
       "      <th>depart_airport</th>\n",
       "      <th>depart_datetime</th>\n",
       "      <th>price</th>\n",
       "      <th>flight_id</th>\n",
       "      <th>manufacturer</th>\n",
       "      <th>model</th>\n",
       "      <th>capacity</th>\n",
       "    </tr>\n",
       "  </thead>\n",
       "  <tbody>\n",
       "    <tr>\n",
       "      <th>0</th>\n",
       "      <td>6931010700</td>\n",
       "      <td>Ukraine</td>\n",
       "      <td>6/28/2020</td>\n",
       "      <td>Sweden</td>\n",
       "      <td>9/22/2019</td>\n",
       "      <td>2083</td>\n",
       "      <td>JH4NA21615S154843</td>\n",
       "      <td>boeing</td>\n",
       "      <td>3</td>\n",
       "      <td>20</td>\n",
       "    </tr>\n",
       "    <tr>\n",
       "      <th>1</th>\n",
       "      <td>8959052388</td>\n",
       "      <td>China</td>\n",
       "      <td>7/1/2020</td>\n",
       "      <td>Indonesia</td>\n",
       "      <td>9/6/2019</td>\n",
       "      <td>2977</td>\n",
       "      <td>1G6DH5E58D0852309</td>\n",
       "      <td>airbus</td>\n",
       "      <td>3</td>\n",
       "      <td>20</td>\n",
       "    </tr>\n",
       "    <tr>\n",
       "      <th>2</th>\n",
       "      <td>8347380848</td>\n",
       "      <td>China</td>\n",
       "      <td>4/27/2020</td>\n",
       "      <td>Indonesia</td>\n",
       "      <td>10/27/2018</td>\n",
       "      <td>2538</td>\n",
       "      <td>3VW507AT0EM958189</td>\n",
       "      <td>airbus</td>\n",
       "      <td>1</td>\n",
       "      <td>20</td>\n",
       "    </tr>\n",
       "    <tr>\n",
       "      <th>3</th>\n",
       "      <td>1012056228</td>\n",
       "      <td>Indonesia</td>\n",
       "      <td>3/15/2020</td>\n",
       "      <td>Azerbaijan</td>\n",
       "      <td>2/5/2019</td>\n",
       "      <td>1103</td>\n",
       "      <td>WBASN0C52DD599576</td>\n",
       "      <td>airbus</td>\n",
       "      <td>2</td>\n",
       "      <td>20</td>\n",
       "    </tr>\n",
       "    <tr>\n",
       "      <th>4</th>\n",
       "      <td>857875906</td>\n",
       "      <td>Indonesia</td>\n",
       "      <td>3/11/2019</td>\n",
       "      <td>Russia</td>\n",
       "      <td>11/28/2018</td>\n",
       "      <td>2437</td>\n",
       "      <td>1C4RDJEG0DC687380</td>\n",
       "      <td>airbus</td>\n",
       "      <td>1</td>\n",
       "      <td>20</td>\n",
       "    </tr>\n",
       "  </tbody>\n",
       "</table>\n",
       "</div>"
      ],
      "text/plain": [
       "   schedule_id arrival_airport arrival_datetime depart_airport  \\\n",
       "0   6931010700         Ukraine        6/28/2020         Sweden   \n",
       "1   8959052388           China         7/1/2020      Indonesia   \n",
       "2   8347380848           China        4/27/2020      Indonesia   \n",
       "3   1012056228       Indonesia        3/15/2020     Azerbaijan   \n",
       "4    857875906       Indonesia        3/11/2019         Russia   \n",
       "\n",
       "  depart_datetime  price          flight_id manufacturer  model  capacity  \n",
       "0       9/22/2019   2083  JH4NA21615S154843       boeing      3        20  \n",
       "1        9/6/2019   2977  1G6DH5E58D0852309       airbus      3        20  \n",
       "2      10/27/2018   2538  3VW507AT0EM958189       airbus      1        20  \n",
       "3        2/5/2019   1103  WBASN0C52DD599576       airbus      2        20  \n",
       "4      11/28/2018   2437  1C4RDJEG0DC687380       airbus      1        20  "
      ]
     },
     "execution_count": 5,
     "metadata": {},
     "output_type": "execute_result"
    }
   ],
   "source": [
    "flight.drop_duplicates(subset=['schedule_id', 'arrival_airport', 'arrival_datetime', 'depart_airport', 'depart_datetime']).head()"
   ]
  },
  {
   "cell_type": "code",
   "execution_count": 7,
   "metadata": {},
   "outputs": [
    {
     "name": "stdout",
     "output_type": "stream",
     "text": [
      "Collecting mysql-connector-python-rf\n",
      "\u001b[?25l  Downloading https://files.pythonhosted.org/packages/21/79/2ff01ab7aa08db3a16b70b990c579c1024c6b2a734263cc7513a758867de/mysql-connector-python-rf-2.2.2.tar.gz (11.9MB)\n",
      "\u001b[K    100% |████████████████████████████████| 11.9MB 1.4MB/s ta 0:00:011\n",
      "\u001b[?25hBuilding wheels for collected packages: mysql-connector-python-rf\n",
      "  Running setup.py bdist_wheel for mysql-connector-python-rf ... \u001b[?25ldone\n",
      "\u001b[?25h  Stored in directory: /Users/tankaiwei/Library/Caches/pip/wheels/87/58/fb/d95c84fad7e1bebfed324c13e107ebb08e1997c9226532859a\n",
      "Successfully built mysql-connector-python-rf\n",
      "Installing collected packages: mysql-connector-python-rf\n",
      "Successfully installed mysql-connector-python-rf-2.2.2\n",
      "\u001b[33mYou are using pip version 18.1, however version 19.2.3 is available.\n",
      "You should consider upgrading via the 'pip install --upgrade pip' command.\u001b[0m\n"
     ]
    }
   ],
   "source": [
    "!pip install mysql-connector-python-rf"
   ]
  },
  {
   "cell_type": "code",
   "execution_count": 1,
   "metadata": {},
   "outputs": [],
   "source": [
    "import mysql.connector\n",
    "\n",
    "cnx = mysql.connector.connect(user='root', password='chenkaiwei',\n",
    "                              host='localhost',\n",
    "                              database='test')"
   ]
  },
  {
   "cell_type": "code",
   "execution_count": 2,
   "metadata": {},
   "outputs": [
    {
     "name": "stdout",
     "output_type": "stream",
     "text": [
      "test, 123 was hired\n",
      "test, 123 was hired\n"
     ]
    }
   ],
   "source": [
    "query = (\"SELECT * FROM user\")\n",
    "cursor = cnx.cursor()\n",
    "\n",
    "cursor.execute(query)\n",
    "\n",
    "for (first_name, last_name) in cursor:\n",
    "  print(\"{}, {} was hired\".format(\n",
    "    last_name, first_name))"
   ]
  },
  {
   "cell_type": "code",
   "execution_count": 55,
   "metadata": {},
   "outputs": [
    {
     "data": {
      "text/plain": [
       "'SELECT * FROM user'"
      ]
     },
     "execution_count": 55,
     "metadata": {},
     "output_type": "execute_result"
    }
   ],
   "source": [
    "query"
   ]
  },
  {
   "cell_type": "code",
   "execution_count": 30,
   "metadata": {},
   "outputs": [],
   "source": [
    "#creating string of 1A to 5D\n",
    "seats_col = ['a', 'b', 'c', 'd']\n",
    "seats_id = []\n",
    "\n",
    "for each in range(5):\n",
    "    for letter in seats_col:\n",
    "        seats_id.append(str(each + 1) + letter)"
   ]
  },
  {
   "cell_type": "code",
   "execution_count": 34,
   "metadata": {},
   "outputs": [
    {
     "data": {
      "text/html": [
       "<div>\n",
       "<style scoped>\n",
       "    .dataframe tbody tr th:only-of-type {\n",
       "        vertical-align: middle;\n",
       "    }\n",
       "\n",
       "    .dataframe tbody tr th {\n",
       "        vertical-align: top;\n",
       "    }\n",
       "\n",
       "    .dataframe thead th {\n",
       "        text-align: right;\n",
       "    }\n",
       "</style>\n",
       "<table border=\"1\" class=\"dataframe\">\n",
       "  <thead>\n",
       "    <tr style=\"text-align: right;\">\n",
       "      <th></th>\n",
       "      <th>schedule_id</th>\n",
       "      <th>arrival_airport</th>\n",
       "      <th>arrival_datetime</th>\n",
       "      <th>depart_airport</th>\n",
       "      <th>depart_datetime</th>\n",
       "      <th>price</th>\n",
       "      <th>flight_id</th>\n",
       "      <th>manufacturer</th>\n",
       "      <th>model</th>\n",
       "      <th>capacity</th>\n",
       "    </tr>\n",
       "  </thead>\n",
       "  <tbody>\n",
       "    <tr>\n",
       "      <th>0</th>\n",
       "      <td>6931010700</td>\n",
       "      <td>Ukraine</td>\n",
       "      <td>6/28/2020</td>\n",
       "      <td>Sweden</td>\n",
       "      <td>9/22/2019</td>\n",
       "      <td>2083</td>\n",
       "      <td>JH4NA21615S154843</td>\n",
       "      <td>boeing</td>\n",
       "      <td>3</td>\n",
       "      <td>20</td>\n",
       "    </tr>\n",
       "    <tr>\n",
       "      <th>1</th>\n",
       "      <td>8959052388</td>\n",
       "      <td>China</td>\n",
       "      <td>7/1/2020</td>\n",
       "      <td>Indonesia</td>\n",
       "      <td>9/6/2019</td>\n",
       "      <td>2977</td>\n",
       "      <td>1G6DH5E58D0852309</td>\n",
       "      <td>airbus</td>\n",
       "      <td>3</td>\n",
       "      <td>20</td>\n",
       "    </tr>\n",
       "    <tr>\n",
       "      <th>2</th>\n",
       "      <td>8347380848</td>\n",
       "      <td>China</td>\n",
       "      <td>4/27/2020</td>\n",
       "      <td>Indonesia</td>\n",
       "      <td>10/27/2018</td>\n",
       "      <td>2538</td>\n",
       "      <td>3VW507AT0EM958189</td>\n",
       "      <td>airbus</td>\n",
       "      <td>1</td>\n",
       "      <td>20</td>\n",
       "    </tr>\n",
       "    <tr>\n",
       "      <th>3</th>\n",
       "      <td>1012056228</td>\n",
       "      <td>Indonesia</td>\n",
       "      <td>3/15/2020</td>\n",
       "      <td>Azerbaijan</td>\n",
       "      <td>2/5/2019</td>\n",
       "      <td>1103</td>\n",
       "      <td>WBASN0C52DD599576</td>\n",
       "      <td>airbus</td>\n",
       "      <td>2</td>\n",
       "      <td>20</td>\n",
       "    </tr>\n",
       "    <tr>\n",
       "      <th>4</th>\n",
       "      <td>857875906</td>\n",
       "      <td>Indonesia</td>\n",
       "      <td>3/11/2019</td>\n",
       "      <td>Russia</td>\n",
       "      <td>11/28/2018</td>\n",
       "      <td>2437</td>\n",
       "      <td>1C4RDJEG0DC687380</td>\n",
       "      <td>airbus</td>\n",
       "      <td>1</td>\n",
       "      <td>20</td>\n",
       "    </tr>\n",
       "  </tbody>\n",
       "</table>\n",
       "</div>"
      ],
      "text/plain": [
       "   schedule_id arrival_airport arrival_datetime depart_airport  \\\n",
       "0   6931010700         Ukraine        6/28/2020         Sweden   \n",
       "1   8959052388           China         7/1/2020      Indonesia   \n",
       "2   8347380848           China        4/27/2020      Indonesia   \n",
       "3   1012056228       Indonesia        3/15/2020     Azerbaijan   \n",
       "4    857875906       Indonesia        3/11/2019         Russia   \n",
       "\n",
       "  depart_datetime  price          flight_id manufacturer  model  capacity  \n",
       "0       9/22/2019   2083  JH4NA21615S154843       boeing      3        20  \n",
       "1        9/6/2019   2977  1G6DH5E58D0852309       airbus      3        20  \n",
       "2      10/27/2018   2538  3VW507AT0EM958189       airbus      1        20  \n",
       "3        2/5/2019   1103  WBASN0C52DD599576       airbus      2        20  \n",
       "4      11/28/2018   2437  1C4RDJEG0DC687380       airbus      1        20  "
      ]
     },
     "execution_count": 34,
     "metadata": {},
     "output_type": "execute_result"
    }
   ],
   "source": [
    "flight.head()"
   ]
  },
  {
   "cell_type": "markdown",
   "metadata": {},
   "source": [
    "## Processing table"
   ]
  },
  {
   "cell_type": "code",
   "execution_count": 3,
   "metadata": {},
   "outputs": [],
   "source": [
    "import query"
   ]
  },
  {
   "cell_type": "code",
   "execution_count": 4,
   "metadata": {},
   "outputs": [],
   "source": [
    "drop = query.create_table"
   ]
  },
  {
   "cell_type": "code",
   "execution_count": 5,
   "metadata": {},
   "outputs": [
    {
     "name": "stdout",
     "output_type": "stream",
     "text": [
      "\n",
      "create table membership(\n",
      "    membership_id bigint,\n",
      "    points int,\n",
      "    points_redeemed int,\n",
      "    expiry date,\n",
      "    tier varchar(256),\n",
      "    primary key (membership_id)\n",
      ");\n",
      "\n"
     ]
    },
    {
     "ename": "ProgrammingError",
     "evalue": "1050 (42S01): Table 'membership' already exists",
     "output_type": "error",
     "traceback": [
      "\u001b[0;31m---------------------------------------------------------------------------\u001b[0m",
      "\u001b[0;31mProgrammingError\u001b[0m                          Traceback (most recent call last)",
      "\u001b[0;32m<ipython-input-5-e9c0e74b6b7e>\u001b[0m in \u001b[0;36m<module>\u001b[0;34m()\u001b[0m\n\u001b[1;32m      1\u001b[0m \u001b[0;32mfor\u001b[0m \u001b[0meach\u001b[0m \u001b[0;32min\u001b[0m \u001b[0mtest\u001b[0m\u001b[0;34m:\u001b[0m\u001b[0;34m\u001b[0m\u001b[0m\n\u001b[1;32m      2\u001b[0m     \u001b[0mprint\u001b[0m\u001b[0;34m(\u001b[0m\u001b[0meach\u001b[0m\u001b[0;34m)\u001b[0m\u001b[0;34m\u001b[0m\u001b[0m\n\u001b[0;32m----> 3\u001b[0;31m     \u001b[0mcursor\u001b[0m\u001b[0;34m.\u001b[0m\u001b[0mexecute\u001b[0m\u001b[0;34m(\u001b[0m\u001b[0meach\u001b[0m\u001b[0;34m)\u001b[0m\u001b[0;34m\u001b[0m\u001b[0m\n\u001b[0m",
      "\u001b[0;32m/anaconda3/lib/python3.6/site-packages/mysql/connector/cursor.py\u001b[0m in \u001b[0;36mexecute\u001b[0;34m(self, operation, params, multi)\u001b[0m\n\u001b[1;32m    549\u001b[0m         \u001b[0;32melse\u001b[0m\u001b[0;34m:\u001b[0m\u001b[0;34m\u001b[0m\u001b[0m\n\u001b[1;32m    550\u001b[0m             \u001b[0;32mtry\u001b[0m\u001b[0;34m:\u001b[0m\u001b[0;34m\u001b[0m\u001b[0m\n\u001b[0;32m--> 551\u001b[0;31m                 \u001b[0mself\u001b[0m\u001b[0;34m.\u001b[0m\u001b[0m_handle_result\u001b[0m\u001b[0;34m(\u001b[0m\u001b[0mself\u001b[0m\u001b[0;34m.\u001b[0m\u001b[0m_connection\u001b[0m\u001b[0;34m.\u001b[0m\u001b[0mcmd_query\u001b[0m\u001b[0;34m(\u001b[0m\u001b[0mstmt\u001b[0m\u001b[0;34m)\u001b[0m\u001b[0;34m)\u001b[0m\u001b[0;34m\u001b[0m\u001b[0m\n\u001b[0m\u001b[1;32m    552\u001b[0m             \u001b[0;32mexcept\u001b[0m \u001b[0merrors\u001b[0m\u001b[0;34m.\u001b[0m\u001b[0mInterfaceError\u001b[0m\u001b[0;34m:\u001b[0m\u001b[0;34m\u001b[0m\u001b[0m\n\u001b[1;32m    553\u001b[0m                 \u001b[0;32mif\u001b[0m \u001b[0mself\u001b[0m\u001b[0;34m.\u001b[0m\u001b[0m_connection\u001b[0m\u001b[0;34m.\u001b[0m\u001b[0m_have_next_result\u001b[0m\u001b[0;34m:\u001b[0m  \u001b[0;31m# pylint: disable=W0212\u001b[0m\u001b[0;34m\u001b[0m\u001b[0m\n",
      "\u001b[0;32m/anaconda3/lib/python3.6/site-packages/mysql/connector/connection.py\u001b[0m in \u001b[0;36mcmd_query\u001b[0;34m(self, query, raw, buffered, raw_as_string)\u001b[0m\n\u001b[1;32m    488\u001b[0m         \u001b[0;32mif\u001b[0m \u001b[0;32mnot\u001b[0m \u001b[0misinstance\u001b[0m\u001b[0;34m(\u001b[0m\u001b[0mquery\u001b[0m\u001b[0;34m,\u001b[0m \u001b[0mbytes\u001b[0m\u001b[0;34m)\u001b[0m\u001b[0;34m:\u001b[0m\u001b[0;34m\u001b[0m\u001b[0m\n\u001b[1;32m    489\u001b[0m             \u001b[0mquery\u001b[0m \u001b[0;34m=\u001b[0m \u001b[0mquery\u001b[0m\u001b[0;34m.\u001b[0m\u001b[0mencode\u001b[0m\u001b[0;34m(\u001b[0m\u001b[0;34m'utf-8'\u001b[0m\u001b[0;34m)\u001b[0m\u001b[0;34m\u001b[0m\u001b[0m\n\u001b[0;32m--> 490\u001b[0;31m         \u001b[0mresult\u001b[0m \u001b[0;34m=\u001b[0m \u001b[0mself\u001b[0m\u001b[0;34m.\u001b[0m\u001b[0m_handle_result\u001b[0m\u001b[0;34m(\u001b[0m\u001b[0mself\u001b[0m\u001b[0;34m.\u001b[0m\u001b[0m_send_cmd\u001b[0m\u001b[0;34m(\u001b[0m\u001b[0mServerCmd\u001b[0m\u001b[0;34m.\u001b[0m\u001b[0mQUERY\u001b[0m\u001b[0;34m,\u001b[0m \u001b[0mquery\u001b[0m\u001b[0;34m)\u001b[0m\u001b[0;34m)\u001b[0m\u001b[0;34m\u001b[0m\u001b[0m\n\u001b[0m\u001b[1;32m    491\u001b[0m \u001b[0;34m\u001b[0m\u001b[0m\n\u001b[1;32m    492\u001b[0m         \u001b[0;32mif\u001b[0m \u001b[0mself\u001b[0m\u001b[0;34m.\u001b[0m\u001b[0m_have_next_result\u001b[0m\u001b[0;34m:\u001b[0m\u001b[0;34m\u001b[0m\u001b[0m\n",
      "\u001b[0;32m/anaconda3/lib/python3.6/site-packages/mysql/connector/connection.py\u001b[0m in \u001b[0;36m_handle_result\u001b[0;34m(self, packet)\u001b[0m\n\u001b[1;32m    393\u001b[0m             \u001b[0;32mreturn\u001b[0m \u001b[0mself\u001b[0m\u001b[0;34m.\u001b[0m\u001b[0m_handle_eof\u001b[0m\u001b[0;34m(\u001b[0m\u001b[0mpacket\u001b[0m\u001b[0;34m)\u001b[0m\u001b[0;34m\u001b[0m\u001b[0m\n\u001b[1;32m    394\u001b[0m         \u001b[0;32melif\u001b[0m \u001b[0mpacket\u001b[0m\u001b[0;34m[\u001b[0m\u001b[0;36m4\u001b[0m\u001b[0;34m]\u001b[0m \u001b[0;34m==\u001b[0m \u001b[0;36m255\u001b[0m\u001b[0;34m:\u001b[0m\u001b[0;34m\u001b[0m\u001b[0m\n\u001b[0;32m--> 395\u001b[0;31m             \u001b[0;32mraise\u001b[0m \u001b[0merrors\u001b[0m\u001b[0;34m.\u001b[0m\u001b[0mget_exception\u001b[0m\u001b[0;34m(\u001b[0m\u001b[0mpacket\u001b[0m\u001b[0;34m)\u001b[0m\u001b[0;34m\u001b[0m\u001b[0m\n\u001b[0m\u001b[1;32m    396\u001b[0m \u001b[0;34m\u001b[0m\u001b[0m\n\u001b[1;32m    397\u001b[0m         \u001b[0;31m# We have a text result set\u001b[0m\u001b[0;34m\u001b[0m\u001b[0;34m\u001b[0m\u001b[0m\n",
      "\u001b[0;31mProgrammingError\u001b[0m: 1050 (42S01): Table 'membership' already exists"
     ]
    }
   ],
   "source": [
    "for each in drop:\n",
    "    cursor.execute(drop)\n",
    "\n",
    "for each in test:\n",
    "    print(each)\n",
    "    cursor.execute(each)"
   ]
  },
  {
   "cell_type": "code",
   "execution_count": null,
   "metadata": {},
   "outputs": [],
   "source": []
  },
  {
   "cell_type": "code",
   "execution_count": null,
   "metadata": {},
   "outputs": [],
   "source": []
  }
 ],
 "metadata": {
  "kernelspec": {
   "display_name": "Python 3",
   "language": "python",
   "name": "python3"
  },
  "language_info": {
   "codemirror_mode": {
    "name": "ipython",
    "version": 3
   },
   "file_extension": ".py",
   "mimetype": "text/x-python",
   "name": "python",
   "nbconvert_exporter": "python",
   "pygments_lexer": "ipython3",
   "version": "3.6.4"
  }
 },
 "nbformat": 4,
 "nbformat_minor": 2
}
